{
 "cells": [
  {
   "cell_type": "code",
   "execution_count": 1,
   "id": "e1352345",
   "metadata": {},
   "outputs": [
    {
     "name": "stdout",
     "output_type": "stream",
     "text": [
      "işlem seçiniz:1\n",
      "1. işlem seçildi.\n"
     ]
    }
   ],
   "source": [
    "işlem = int(input(\"işlem seçiniz:\")) #3 tane işleminiz olsun.\n",
    "\n",
    "if işlem == 1:\n",
    "    print(\"1. işlem seçildi.\")\n",
    "elif işlem == 2:\n",
    "    print(\"2. işlem seçildi.\")\n",
    "elif işlem == 3:\n",
    "    print(\"3. işlem seçildi.\")\n",
    "else:\n",
    "    print(\"geçersiz işlem\")"
   ]
  },
  {
   "cell_type": "code",
   "execution_count": null,
   "id": "92552e19",
   "metadata": {},
   "outputs": [],
   "source": []
  }
 ],
 "metadata": {
  "kernelspec": {
   "display_name": "Python 3 (ipykernel)",
   "language": "python",
   "name": "python3"
  },
  "language_info": {
   "codemirror_mode": {
    "name": "ipython",
    "version": 3
   },
   "file_extension": ".py",
   "mimetype": "text/x-python",
   "name": "python",
   "nbconvert_exporter": "python",
   "pygments_lexer": "ipython3",
   "version": "3.9.13"
  }
 },
 "nbformat": 4,
 "nbformat_minor": 5
}
