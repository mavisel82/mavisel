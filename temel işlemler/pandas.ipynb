{
 "cells": [
  {
   "cell_type": "code",
   "execution_count": 1,
   "id": "f66bbd6b",
   "metadata": {},
   "outputs": [
    {
     "name": "stdout",
     "output_type": "stream",
     "text": [
      "0     2\n",
      "1     4\n",
      "2     6\n",
      "3     8\n",
      "4    10\n",
      "dtype: int64\n"
     ]
    }
   ],
   "source": [
    "import pandas as pd\n",
    "my_list = [2, 4, 6, 8, 10]\n",
    "my_series = pd.Series(my_list)\n",
    "print(my_series)"
   ]
  },
  {
   "cell_type": "code",
   "execution_count": 2,
   "id": "9ce34f6e",
   "metadata": {},
   "outputs": [
    {
     "name": "stdout",
     "output_type": "stream",
     "text": [
      "     name  age\n",
      "0   Ahsen    8\n",
      "1   Beren    6\n",
      "2  Yağmur    6\n"
     ]
    }
   ],
   "source": [
    "import pandas as pd\n",
    "my_dict = {'name': ['Ahsen', 'Beren', 'Yağmur'], 'age': [8, 6, 6]}\n",
    "my_dataframe = pd.DataFrame(my_dict)\n",
    "print(my_dataframe)"
   ]
  },
  {
   "cell_type": "code",
   "execution_count": 9,
   "id": "2588a5a2",
   "metadata": {},
   "outputs": [
    {
     "name": "stdout",
     "output_type": "stream",
     "text": [
      "      isim\n",
      "0  soyisim\n",
      "1      yaş\n",
      "2      boy\n",
      "3     kilo\n"
     ]
    }
   ],
   "source": [
    "import pandas as pd\n",
    "my_dataframe = pd.read_excel('D:/New folder/pandas.xlsx')\n",
    "print(my_dataframe)"
   ]
  },
  {
   "cell_type": "code",
   "execution_count": null,
   "id": "e697f562",
   "metadata": {},
   "outputs": [],
   "source": []
  }
 ],
 "metadata": {
  "kernelspec": {
   "display_name": "Python 3 (ipykernel)",
   "language": "python",
   "name": "python3"
  },
  "language_info": {
   "codemirror_mode": {
    "name": "ipython",
    "version": 3
   },
   "file_extension": ".py",
   "mimetype": "text/x-python",
   "name": "python",
   "nbconvert_exporter": "python",
   "pygments_lexer": "ipython3",
   "version": "3.9.13"
  }
 },
 "nbformat": 4,
 "nbformat_minor": 5
}
