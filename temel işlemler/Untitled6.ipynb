{
 "cells": [
  {
   "cell_type": "code",
   "execution_count": 5,
   "id": "e35120f9",
   "metadata": {},
   "outputs": [
    {
     "name": "stdout",
     "output_type": "stream",
     "text": [
      "yaşınızı giriniz:21\n",
      "bu mekana girebilirsiniz\n"
     ]
    }
   ],
   "source": [
    "# 18 yaş kontrolü\n",
    "yaş = int(input(\"yaşınızı giriniz:\"))\n",
    "if(yaş < 18):\n",
    "    #if bloğu - Girinti ile sağlanıyor.\n",
    "    print(\"bu mekana giremezsiniz\")\n",
    "else:\n",
    "    print(\"bu mekana girebilirsiniz\")"
   ]
  },
  {
   "cell_type": "code",
   "execution_count": null,
   "id": "6bf7064e",
   "metadata": {},
   "outputs": [],
   "source": [
    "# 18 yaş kontrolü\n",
    "yaş = int(input(\"yaşınızı giriniz\"))\n"
   ]
  }
 ],
 "metadata": {
  "kernelspec": {
   "display_name": "Python 3 (ipykernel)",
   "language": "python",
   "name": "python3"
  },
  "language_info": {
   "codemirror_mode": {
    "name": "ipython",
    "version": 3
   },
   "file_extension": ".py",
   "mimetype": "text/x-python",
   "name": "python",
   "nbconvert_exporter": "python",
   "pygments_lexer": "ipython3",
   "version": "3.9.13"
  }
 },
 "nbformat": 4,
 "nbformat_minor": 5
}
