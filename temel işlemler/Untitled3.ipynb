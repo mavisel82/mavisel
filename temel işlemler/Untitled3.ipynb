{
 "cells": [
  {
   "cell_type": "code",
   "execution_count": 1,
   "id": "c77de735",
   "metadata": {},
   "outputs": [
    {
     "name": "stdout",
     "output_type": "stream",
     "text": [
      "merhaba\n",
      "Nasılsın\n",
      "İyi misin\n"
     ]
    }
   ],
   "source": [
    "print(\"merhaba\\nNasılsın\\nİyi misin\")"
   ]
  },
  {
   "cell_type": "code",
   "execution_count": 2,
   "id": "87dd08d9",
   "metadata": {},
   "outputs": [
    {
     "name": "stdout",
     "output_type": "stream",
     "text": [
      "selam\n",
      "Gençler\n"
     ]
    }
   ],
   "source": [
    "print(\"selam\\nGençler\")"
   ]
  },
  {
   "cell_type": "code",
   "execution_count": 3,
   "id": "6db2d2c1",
   "metadata": {},
   "outputs": [
    {
     "name": "stdout",
     "output_type": "stream",
     "text": [
      "Kırklareli\tEdirne\tİstanbul\n"
     ]
    }
   ],
   "source": [
    "print(\"Kırklareli\\tEdirne\\tİstanbul\")"
   ]
  },
  {
   "cell_type": "code",
   "execution_count": 4,
   "id": "a3120d9b",
   "metadata": {},
   "outputs": [
    {
     "name": "stdout",
     "output_type": "stream",
     "text": [
      "<class 'int'>\n"
     ]
    }
   ],
   "source": [
    "a=75\n",
    "print(type(a))"
   ]
  },
  {
   "cell_type": "code",
   "execution_count": 5,
   "id": "86b6d934",
   "metadata": {},
   "outputs": [
    {
     "name": "stdout",
     "output_type": "stream",
     "text": [
      "<class 'float'>\n"
     ]
    }
   ],
   "source": [
    "a=2.44\n",
    "print(type(a))"
   ]
  },
  {
   "cell_type": "code",
   "execution_count": 6,
   "id": "6ccc6b68",
   "metadata": {},
   "outputs": [
    {
     "name": "stdout",
     "output_type": "stream",
     "text": [
      "<class 'str'>\n"
     ]
    }
   ],
   "source": [
    "a = \"Ahsen\"\n",
    "print(type(a))"
   ]
  },
  {
   "cell_type": "code",
   "execution_count": 7,
   "id": "99709cb5",
   "metadata": {},
   "outputs": [
    {
     "name": "stdout",
     "output_type": "stream",
     "text": [
      "2 4 6 8\n"
     ]
    }
   ],
   "source": [
    "print(2,4,6,8)"
   ]
  },
  {
   "cell_type": "code",
   "execution_count": 8,
   "id": "3b020bf2",
   "metadata": {},
   "outputs": [
    {
     "name": "stdout",
     "output_type": "stream",
     "text": [
      "2,4,6,8\n"
     ]
    }
   ],
   "source": [
    "print(2,4,6,8,sep = \",\")"
   ]
  },
  {
   "cell_type": "code",
   "execution_count": 9,
   "id": "8dc2fd0f",
   "metadata": {},
   "outputs": [
    {
     "name": "stdout",
     "output_type": "stream",
     "text": [
      "ahsen\n",
      "beren\n",
      "yağmur\n"
     ]
    }
   ],
   "source": [
    "print(\"ahsen\",\"beren\",\"yağmur\",sep = \"\\n\")"
   ]
  },
  {
   "cell_type": "code",
   "execution_count": 10,
   "id": "75321f46",
   "metadata": {},
   "outputs": [
    {
     "name": "stdout",
     "output_type": "stream",
     "text": [
      "02/12/04\n"
     ]
    }
   ],
   "source": [
    "print(\"02\",\"12\",\"04\",sep =\"/\")"
   ]
  },
  {
   "cell_type": "code",
   "execution_count": 11,
   "id": "c2f12fb0",
   "metadata": {},
   "outputs": [
    {
     "name": "stdout",
     "output_type": "stream",
     "text": [
      "A h s e n\n"
     ]
    }
   ],
   "source": [
    "print(*\"Ahsen\")"
   ]
  },
  {
   "cell_type": "code",
   "execution_count": 12,
   "id": "1655c668",
   "metadata": {},
   "outputs": [
    {
     "name": "stdout",
     "output_type": "stream",
     "text": [
      "A\n",
      "h\n",
      "s\n",
      "e\n",
      "n\n"
     ]
    }
   ],
   "source": [
    "print(*\"Ahsen\",sep =\"\\n\")"
   ]
  },
  {
   "cell_type": "code",
   "execution_count": 13,
   "id": "1ab8c6e0",
   "metadata": {},
   "outputs": [
    {
     "name": "stdout",
     "output_type": "stream",
     "text": [
      "U.N.I.C.E.F\n"
     ]
    }
   ],
   "source": [
    "print(*\"UNICEF\",sep =\".\")"
   ]
  },
  {
   "cell_type": "code",
   "execution_count": null,
   "id": "215718b4",
   "metadata": {},
   "outputs": [],
   "source": []
  }
 ],
 "metadata": {
  "kernelspec": {
   "display_name": "Python 3 (ipykernel)",
   "language": "python",
   "name": "python3"
  },
  "language_info": {
   "codemirror_mode": {
    "name": "ipython",
    "version": 3
   },
   "file_extension": ".py",
   "mimetype": "text/x-python",
   "name": "python",
   "nbconvert_exporter": "python",
   "pygments_lexer": "ipython3",
   "version": "3.9.13"
  }
 },
 "nbformat": 4,
 "nbformat_minor": 5
}
