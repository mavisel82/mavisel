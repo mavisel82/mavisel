{
 "cells": [
  {
   "cell_type": "code",
   "execution_count": 3,
   "id": "8457e095",
   "metadata": {},
   "outputs": [
    {
     "name": "stdout",
     "output_type": "stream",
     "text": [
      "[27.5 42.5 57.5 75. ]\n"
     ]
    }
   ],
   "source": [
    "import numpy as np\n",
    "Yazılı1 = [15,30,45,60]\n",
    "Yazılı2 = [40,55,70,90]\n",
    "\n",
    "Yazılı1_np = np.array(Yazılı1)\n",
    "Yazılı2_np = np.array(Yazılı2)\n",
    "\n",
    "ortalama = (Yazılı1_np + Yazılı2_np)/2\n",
    "print(ortalama)\n",
    "\n"
   ]
  },
  {
   "cell_type": "code",
   "execution_count": 4,
   "id": "9bb411d2",
   "metadata": {},
   "outputs": [
    {
     "name": "stdout",
     "output_type": "stream",
     "text": [
      "[[1 2 3]\n",
      " [4 5 6]]\n"
     ]
    }
   ],
   "source": [
    "import numpy as np\n",
    "my_array = np.array([[1, 2, 3],[4, 5, 6]])\n",
    "print(my_array)"
   ]
  },
  {
   "cell_type": "code",
   "execution_count": 5,
   "id": "a81c6b6b",
   "metadata": {},
   "outputs": [
    {
     "name": "stdout",
     "output_type": "stream",
     "text": [
      "5\n"
     ]
    }
   ],
   "source": [
    "import numpy as np\n",
    "arr = np.array ([1, 2, 3, 4, 5])\n",
    "max_value = np.amax(arr)\n",
    "print(max_value)"
   ]
  },
  {
   "cell_type": "code",
   "execution_count": 7,
   "id": "70d20df8",
   "metadata": {},
   "outputs": [
    {
     "name": "stdout",
     "output_type": "stream",
     "text": [
      "9\n"
     ]
    }
   ],
   "source": [
    "import numpy as np\n",
    "arr = np.array([2, 4, 6, 8, 9])\n",
    "max_value = np.amax(arr, initial=0)\n",
    "print(max_value)"
   ]
  },
  {
   "cell_type": "code",
   "execution_count": null,
   "id": "6d0cfe11",
   "metadata": {},
   "outputs": [],
   "source": []
  }
 ],
 "metadata": {
  "kernelspec": {
   "display_name": "Python 3 (ipykernel)",
   "language": "python",
   "name": "python3"
  },
  "language_info": {
   "codemirror_mode": {
    "name": "ipython",
    "version": 3
   },
   "file_extension": ".py",
   "mimetype": "text/x-python",
   "name": "python",
   "nbconvert_exporter": "python",
   "pygments_lexer": "ipython3",
   "version": "3.9.13"
  }
 },
 "nbformat": 4,
 "nbformat_minor": 5
}
