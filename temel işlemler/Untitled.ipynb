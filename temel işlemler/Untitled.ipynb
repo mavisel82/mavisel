{
  "metadata": {
    "language_info": {
      "codemirror_mode": {
        "name": "python",
        "version": 3
      },
      "file_extension": ".py",
      "mimetype": "text/x-python",
      "name": "python",
      "nbconvert_exporter": "python",
      "pygments_lexer": "ipython3",
      "version": "3.8"
    },
    "kernelspec": {
      "name": "python",
      "display_name": "Python (Pyodide)",
      "language": "python"
    }
  },
  "nbformat_minor": 4,
  "nbformat": 4,
  "cells": [
    {
      "cell_type": "markdown",
      "source": "# MERHABA PYTHON\n",
      "metadata": {}
    },
    {
      "cell_type": "markdown",
      "source": "# Pyton ile matematiksel işlemler\n\n\n\n\n",
      "metadata": {}
    },
    {
      "cell_type": "markdown",
      "source": "## 1. Toplama işlemi",
      "metadata": {}
    },
    {
      "cell_type": "markdown",
      "source": "\n\n\n\n\nPython matematilsel işlemleri çok hızlı bir şekilde yapabilen bir yazılım dilidir. Bu örnekte bir toplama işlemi yapacağız.",
      "metadata": {}
    },
    {
      "cell_type": "code",
      "source": "a=5\nb=3\na+b",
      "metadata": {
        "trusted": true
      },
      "execution_count": null,
      "outputs": []
    },
    {
      "cell_type": "markdown",
      "source": "# 2.Çıkarma İşlemi\n",
      "metadata": {
        "jp-MarkdownHeadingCollapsed": true
      }
    },
    {
      "cell_type": "code",
      "source": "X=22\nY=35\nX-Y",
      "metadata": {
        "trusted": true
      },
      "execution_count": null,
      "outputs": []
    },
    {
      "cell_type": "markdown",
      "source": "# 3.Bölme işlemi",
      "metadata": {}
    },
    {
      "cell_type": "code",
      "source": "A=20\nB=2\nA//B",
      "metadata": {
        "trusted": true
      },
      "execution_count": null,
      "outputs": []
    },
    {
      "cell_type": "markdown",
      "source": "# 4. Kalanı Bulma",
      "metadata": {}
    },
    {
      "cell_type": "code",
      "source": "20%3",
      "metadata": {
        "trusted": true
      },
      "execution_count": null,
      "outputs": []
    },
    {
      "cell_type": "markdown",
      "source": "# Üs Bulma",
      "metadata": {}
    },
    {
      "cell_type": "code",
      "source": "5**5",
      "metadata": {
        "trusted": true
      },
      "execution_count": null,
      "outputs": []
    },
    {
      "cell_type": "code",
      "source": "",
      "metadata": {},
      "execution_count": null,
      "outputs": []
    },
    {
      "cell_type": "code",
      "source": "",
      "metadata": {},
      "execution_count": null,
      "outputs": []
    }
  ]
}
